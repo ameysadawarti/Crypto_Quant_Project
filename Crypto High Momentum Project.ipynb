{
 "cells": [
  {
   "cell_type": "code",
   "execution_count": 1,
   "id": "f1559a1e",
   "metadata": {},
   "outputs": [
    {
     "name": "stdout",
     "output_type": "stream",
     "text": [
      "                   Name Symbol Market Cap (USD)\n",
      "0               Bitcoin    BTC          571.64B\n",
      "1              Ethereum    ETH          221.86B\n",
      "2           Tether USDt   USDT           83.42B\n",
      "3                   BNB    BNB           36.97B\n",
      "4                   XRP    XRP           33.56B\n",
      "..                  ...    ...              ...\n",
      "295               Ardor   ARDR           73.70M\n",
      "296         Wrapped NXM   WNXM           73.67M\n",
      "297    Energy Web Token    EWT           73.46M\n",
      "298  Hifi Finance (Old)    MFT           71.85M\n",
      "299            MetisDAO  METIS           71.02M\n",
      "\n",
      "[300 rows x 3 columns]\n",
      "['BTCUSDT', 'ETHUSDT', 'USDTUSDT', 'BNBUSDT', 'XRPUSDT', 'USDCUSDT', 'DOGEUSDT', 'ADAUSDT', 'SOLUSDT', 'TRXUSDT', 'MATICUSDT', 'LTCUSDT', 'DOTUSDT', 'SHIBUSDT', 'DAIUSDT', 'WBTCUSDT', 'BCHUSDT', 'TONUSDT', 'AVAXUSDT', 'LINKUSDT', 'XLMUSDT', 'LEOUSDT', 'UNIUSDT', 'BUSDUSDT', 'TUSDUSDT', 'ATOMUSDT', 'OKBUSDT', 'XMRUSDT', 'ETCUSDT', 'HBARUSDT', 'FILUSDT', 'ICPUSDT', 'LDOUSDT', 'APTUSDT', 'MNTUSDT', 'ARBUSDT', 'CROUSDT', 'VETUSDT', 'NEARUSDT', 'QNTUSDT', 'MKRUSDT', 'OPUSDT', 'GRTUSDT', 'AAVEUSDT', 'XDCUSDT', 'ALGOUSDT', 'AXSUSDT', 'SANDUSDT', 'STXUSDT', 'EGLDUSDT', 'EOSUSDT', 'IMXUSDT', 'XTZUSDT', 'THETAUSDT', 'USDDUSDT', 'SNXUSDT', 'MANAUSDT', 'BSVUSDT', 'APEUSDT', 'FTMUSDT', 'INJUSDT', 'RNDRUSDT', 'NEOUSDT', 'FLOWUSDT', 'KAVAUSDT', 'XECUSDT', 'CFXUSDT', 'RPLUSDT', 'KCSUSDT', 'CHZUSDT', 'CRVUSDT', 'GALAUSDT', 'USDPUSDT', 'KLAYUSDT', 'PEPEUSDT', 'ZECUSDT', 'MIOTAUSDT', 'PAXGUSDT', 'XAUtUSDT', 'FXSUSDT', 'LUNCUSDT', 'MINAUSDT', 'BTTUSDT', 'SUIUSDT', 'COMPUSDT', 'CSPRUSDT', 'HTUSDT', 'GMXUSDT', 'GTUSDT', 'TWTUSDT', 'BONEUSDT', 'DASHUSDT', 'RUNEUSDT', 'NEXOUSDT', 'GUSDUSDT', 'DYDXUSDT', 'BATUSDT', 'WOOUSDT', 'ARUSDT', 'NFTUSDT', 'FLRUSDT', 'ZILUSDT', '1INCHUSDT', 'CAKEUSDT', 'LRCUSDT', 'ENJUSDT', 'GNOUSDT', 'HNTUSDT', 'MASKUSDT', 'MXUSDT', 'QTUMUSDT', 'ENSUSDT', 'ROSEUSDT', 'XEMUSDT', 'AGIXUSDT', 'CVXUSDT', 'BTGUSDT', 'CELOUSDT', 'TFUELUSDT', 'XCHUSDT', 'ASTRUSDT', 'ANKRUSDT', 'BLURUSDT', 'RVNUSDT', 'DCRUSDT', 'GMTUSDT', 'SFPUSDT', 'HOTUSDT', 'OSMOUSDT', 'GLMUSDT', 'BALUSDT', 'WAVESUSDT', 'OCEANUSDT', 'AUDIOUSDT', 'WLDUSDT', 'FLOKIUSDT', 'YFIUSDT', 'TUSDT', 'ICXUSDT', 'JSTUSDT', 'LUNAUSDT', 'KSMUSDT', 'SCUSDT', 'JASMYUSDT', 'SXPUSDT', 'ELFUSDT', 'ETHWUSDT', 'ANTUSDT', 'ZRXUSDT', 'UNIBOTUSDT', 'SSVUSDT', 'HIVEUSDT', 'ILVUSDT', 'ONTUSDT', 'MAGICUSDT', 'FETUSDT', 'SUSHIUSDT', 'WAXPUSDT', 'GLMRUSDT', 'LPTUSDT', 'IOTXUSDT', 'IOSTUSDT', 'BANDUSDT', 'ONEUSDT', 'BICOUSDT', 'USTCUSDT', 'TOMOUSDT', 'BORAUSDT', 'AXLUSDT', 'COREUSDT', 'FLUXUSDT', 'MOBUSDT', 'DGBUSDT', 'SKLUSDT', 'CKBUSDT', 'KDAUSDT', 'STGUSDT', 'ZENUSDT', 'UMAUSDT', 'RBNUSDT', 'DAOUSDT', 'AKTUSDT', 'ACHUSDT', 'CTSIUSDT', 'EDUUSDT', 'STORJUSDT', 'MCUSDT', 'CFGUSDT', 'RSRUSDT', 'KNCUSDT', 'CELRUSDT', 'LSKUSDT', 'EVERUSDT', 'PLAUSDT', 'AMPUSDT', 'API3USDT', 'GALUSDT', 'SNTUSDT', 'PUNDIXUSDT', 'JOEUSDT', 'stETHUSDT', 'WTRXUSDT', 'WHBARUSDT', 'BTCBUSDT', 'WEOSUSDT', 'HEXUSDT', 'KASUSDT', 'FRAXUSDT', 'FLEXUSDT', 'RLBUSDT', 'TNCUSDT', 'BGBUSDT', 'WBNBUSDT', 'XRDUSDT', 'BTTOLDUSDT', 'WKAVAUSDT', 'FTTUSDT', 'USDJUSDT', 'FDUSDUSDT', 'LUSDUSDT', 'HBTCUSDT', 'AZEROUSDT', 'EDGTUSDT', 'DFIUSDT', 'BDXUSDT', 'LYXUSDT', 'TOMIUSDT', 'WEMIXUSDT', 'FNSAUSDT', 'BabyDogeUSDT', 'WBETHUSDT', 'RONUSDT', 'XYMUSDT', 'GNSUSDT', 'TRIBEUSDT', 'PENDLEUSDT', 'EURSUSDT', 'CHSBUSDT', 'LYXeUSDT', 'POLYUSDT', 'ORDIUSDT', 'BITCOINUSDT', 'KEEPUSDT', 'USDXUSDT', 'RBTCUSDT', 'MLKUSDT', 'LQTYUSDT', 'IDUSDT', 'DKAUSDT', 'TRACUSDT', 'POLYXUSDT', 'MRSUSDT', 'VVSUSDT', 'STPTUSDT', 'RLCUSDT', 'OXTUSDT', 'BRISEUSDT', 'SUREUSDT', 'XNOUSDT', 'MTLUSDT', 'MVLUSDT', 'TELUSDT', 'NYMUSDT', 'CVCUSDT', 'ONGUSDT', 'YGGUSDT', 'C98USDT', 'PYRUSDT', 'MEDUSDT', 'RDNTUSDT', 'NMRUSDT', 'ELONUSDT', 'ALPHAUSDT', 'DEXEUSDT', 'LINAUSDT', 'ORBSUSDT', 'STEEMUSDT', 'POWRUSDT', 'IQUSDT', 'CHRUSDT', 'BNTUSDT', 'ASTRAFERUSDT', 'RADUSDT', 'REQUSDT', 'SYSUSDT', 'DESOUSDT', 'OMGUSDT', 'SYNUSDT', 'HFTUSDT', 'DENTUSDT', 'NKNUSDT', 'PROMUSDT', 'GTCUSDT', 'STTUSDT', 'RIFUSDT', 'ARDRUSDT', 'WNXMUSDT', 'EWTUSDT', 'MFTUSDT', 'METISUSDT']\n"
     ]
    }
   ],
   "source": [
    "# Extract top 300 symbols from Coinmarketcap (approx. those having mkt cap > $70M)\n",
    "\n",
    "from binance.client import Client as bnb_client\n",
    "from binance.exceptions import BinanceAPIException\n",
    "from datetime import datetime\n",
    "import pandas as pd\n",
    "import numpy as n\n",
    "import requests\n",
    "\n",
    "api_key = '3131be61-4d8c-4eb4-9d15-153cdc27525d'\n",
    "url = f'https://pro-api.coinmarketcap.com/v1/cryptocurrency/listings/latest?start=1&limit=300&convert=USD'\n",
    "\n",
    "headers = {\n",
    "    'X-CMC_PRO_API_KEY': api_key\n",
    "}\n",
    "\n",
    "response = requests.get(url, headers=headers)\n",
    "\n",
    "# Checking if the request was successful\n",
    "if response.status_code == 200:\n",
    "    # Extract the data from the response JSON\n",
    "    data = response.json()\n",
    "\n",
    "    # Access the list of cryptocurrencies and their details\n",
    "    cryptocurrencies = data['data']\n",
    "\n",
    "    # Create lists to store the data\n",
    "    coin_names = []\n",
    "    coin_symbols = []\n",
    "    market_caps = []\n",
    "\n",
    "    # Process and use the cryptocurrency data as needed\n",
    "    for crypto in cryptocurrencies:\n",
    "        coin_name = crypto['name']\n",
    "        coin_symbol = crypto['symbol']\n",
    "        market_cap = crypto['quote']['USD']['market_cap']\n",
    "\n",
    "        # Convert market cap to billions or millions and add B or M accordingly\n",
    "        if market_cap >= 1e9:  # If market cap is in billions\n",
    "            market_cap_str = f\"{market_cap / 1e9:.2f}B\"\n",
    "        elif market_cap >= 1e6:  # If market cap is in millions\n",
    "            market_cap_str = f\"{market_cap / 1e6:.2f}M\"\n",
    "        else:\n",
    "            market_cap_str = f\"{market_cap:.2f}\"\n",
    "\n",
    "        # Append the data to the lists\n",
    "        coin_names.append(coin_name)\n",
    "        coin_symbols.append(coin_symbol)\n",
    "        market_caps.append(market_cap_str)\n",
    "\n",
    "    # Create a DataFrame from the lists\n",
    "    coin_data = pd.DataFrame({\n",
    "        'Name': coin_names,\n",
    "        'Symbol': coin_symbols,\n",
    "        'Market Cap (USD)': market_caps\n",
    "    })\n",
    "\n",
    "    print(coin_data)\n",
    "\n",
    "else:\n",
    "    print(f\"Error: {response.status_code} - {response.json()['status']['error_message']}\")\n",
    "    \n",
    "\n",
    "symbols = coin_data['Symbol'].tolist()\n",
    "univ = [symbol + 'USDT' for symbol in symbols]\n",
    "\n",
    "print(univ)\n"
   ]
  },
  {
   "cell_type": "code",
   "execution_count": 2,
   "id": "87830c6c",
   "metadata": {},
   "outputs": [
    {
     "name": "stdout",
     "output_type": "stream",
     "text": [
      "             BTCUSDT                                             ETHUSDT  \\\n",
      "                open      high       low     close       volume     open   \n",
      "open_time                                                                  \n",
      "2020-01-05   7180.46   7363.88   6958.14   7363.88   300.548686   128.93   \n",
      "2020-01-12   7359.40   8195.00   7359.40   8010.01  1002.941619   135.24   \n",
      "2020-01-19   8186.81   8913.69   8110.96   8913.69  1010.232844   146.32   \n",
      "2020-01-26   8725.94   8737.02   8340.11   8340.11   431.834910   167.14   \n",
      "2020-02-02   8613.88   9513.19   8613.88   9384.73   730.979526   168.34   \n",
      "...              ...       ...       ...       ...          ...      ...   \n",
      "2023-07-16  30194.99  31449.99  30194.99  30294.99  1567.273140  1862.51   \n",
      "2023-07-23  30236.18  30236.18  29798.25  29798.25  1220.463450  1920.97   \n",
      "2023-07-30  30079.91  30079.91  29189.43  29347.23   913.113950  1888.99   \n",
      "2023-08-06  29280.01  29600.00  29065.02  29065.02  1127.478070  1861.02   \n",
      "2023-08-13  29092.01  29774.99  29092.01  29454.17   807.619820  1830.47   \n",
      "\n",
      "                                                    ... PROMUSDT              \\\n",
      "               high      low    close       volume  ...     open  high   low   \n",
      "open_time                                           ...                        \n",
      "2020-01-05   134.84   127.08   134.84   1594.46605  ...      NaN   NaN   NaN   \n",
      "2020-01-12   144.55   135.24   142.01   4960.03797  ...      NaN   NaN   NaN   \n",
      "2020-01-19   174.29   143.50   174.29  11557.46226  ...      NaN   NaN   NaN   \n",
      "2020-01-26   169.78   160.26   160.26   5850.71516  ...      NaN   NaN   NaN   \n",
      "2020-02-02   184.67   168.34   183.19   4808.63093  ...      NaN   NaN   NaN   \n",
      "...             ...      ...      ...          ...  ...      ...   ...   ...   \n",
      "2023-07-16  2002.96  1862.51  1931.40   7431.36110  ...     3.81  3.83  3.65   \n",
      "2023-07-23  1920.97  1867.12  1867.12   6004.65990  ...     3.82  3.89  3.81   \n",
      "2023-07-30  1888.99  1850.71  1880.11   3670.68590  ...     3.75  4.19  3.75   \n",
      "2023-08-06  1873.85  1830.69  1836.36   3241.52630  ...     4.10  4.10  4.10   \n",
      "2023-08-13  1856.70  1829.24  1853.27   1755.19020  ...     4.25  4.45  4.25   \n",
      "\n",
      "                           VTHOUSDT                                             \n",
      "           close   volume      open      high       low     close       volume  \n",
      "open_time                                                                       \n",
      "2020-01-05   NaN      NaN       NaN       NaN       NaN       NaN          NaN  \n",
      "2020-01-12   NaN      NaN       NaN       NaN       NaN       NaN          NaN  \n",
      "2020-01-19   NaN      NaN       NaN       NaN       NaN       NaN          NaN  \n",
      "2020-01-26   NaN      NaN       NaN       NaN       NaN       NaN          NaN  \n",
      "2020-02-02   NaN      NaN       NaN       NaN       NaN       NaN          NaN  \n",
      "...          ...      ...       ...       ...       ...       ...          ...  \n",
      "2023-07-16  3.65   101.70  0.001209  0.001238  0.001199  0.001206  273103961.0  \n",
      "2023-07-23  3.89    11.70  0.001155  0.001186  0.001132  0.001144  148118363.0  \n",
      "2023-07-30  4.19    41.44  0.001142  0.001148  0.001107  0.001148   48625557.0  \n",
      "2023-08-06  4.10     2.79  0.001155  0.001155  0.001058  0.001058   80305347.0  \n",
      "2023-08-13  4.38  2164.28  0.001078  0.001079  0.001057  0.001079   42188416.0  \n",
      "\n",
      "[189 rows x 640 columns]\n",
      "Symbols with errors: ['USDTUSDT', 'WBTCUSDT', 'TONUSDT', 'LEOUSDT', 'XMRUSDT', 'OKBUSDT', 'MNTUSDT', 'CROUSDT', 'STXUSDT', 'XDCUSDT', 'USDDUSDT', 'BSVUSDT', 'INJUSDT', 'RPLUSDT', 'KCSUSDT', 'CFXUSDT', 'USDPUSDT', 'PEPEUSDT', 'KLAYUSDT', 'GMXUSDT', 'MIOTAUSDT', 'XAUtUSDT', 'FXSUSDT', 'LUNCUSDT', 'BTTUSDT', 'CSPRUSDT', 'HTUSDT', 'MINAUSDT', 'SUIUSDT', 'GTUSDT', 'TWTUSDT', 'ARUSDT', 'NEXOUSDT', 'GUSDUSDT', 'WOOUSDT', 'BONEUSDT', 'DYDXUSDT', 'CAKEUSDT', 'FLRUSDT', 'RUNEUSDT', 'CVXUSDT', 'GNOUSDT', 'XEMUSDT', 'MXUSDT', 'AGIXUSDT', 'WLDUSDT', 'XCHUSDT', 'GMTUSDT', 'OSMOUSDT', 'BTGUSDT', 'DCRUSDT', 'JSTUSDT', 'HOTUSDT', 'SFPUSDT', 'LUNAUSDT', 'SXPUSDT', 'SCUSDT', 'ETHWUSDT', 'SSVUSDT', 'HIVEUSDT', 'IOTXUSDT', 'ELFUSDT', 'MAGICUSDT', 'GLMRUSDT', 'USTCUSDT', 'BORAUSDT', 'TOMOUSDT', 'BRISEUSDT', 'MOBUSDT', 'UNIBOTUSDT', 'COREUSDT', 'UMAUSDT', 'DAOUSDT', 'CKBUSDT', 'EDUUSDT', 'JOEUSDT', 'PUNDIXUSDT', 'RBNUSDT', 'LQTYUSDT', 'PLAUSDT', 'MLKUSDT', 'CFGUSDT', 'RSRUSDT', 'EVERUSDT', 'SNTUSDT', 'AMPUSDT', 'stETHUSDT', 'WTRXUSDT', 'WHBARUSDT', 'HEXUSDT', 'BTCBUSDT', 'FRAXUSDT', 'WEOSUSDT', 'KASUSDT', 'WBNBUSDT', 'BGBUSDT', 'TNCUSDT', 'XRDUSDT', 'BTTOLDUSDT', 'FTTUSDT', 'FLEXUSDT', 'WKAVAUSDT', 'USDJUSDT', 'LUSDUSDT', 'RLBUSDT', 'HBTCUSDT', 'AZEROUSDT', 'DFIUSDT', 'BDXUSDT', 'EDGTUSDT', 'TOMIUSDT', 'FNSAUSDT', 'WEMIXUSDT', 'BabyDogeUSDT', 'RONUSDT', 'WBETHUSDT', 'XYMUSDT', 'PENDLEUSDT', 'TRIBEUSDT', 'GNSUSDT', 'EURSUSDT', 'ORDIUSDT', 'CHSBUSDT', 'LYXeUSDT', 'ASTRAFERUSDT', 'KEEPUSDT', 'USDXUSDT', 'RFRUSDT', 'RBTCUSDT', 'DKAUSDT', 'TELUSDT', 'VVSUSDT', 'MRSUSDT', 'NFTUSDT', 'NYMUSDT', 'IQUSDT', 'STPTUSDT', 'MEDUSDT', 'MTLUSDT', 'SUREUSDT', 'SYNUSDT', 'IDUSDT', 'ONGUSDT', 'CVCUSDT', 'WNXMUSDT', 'RDNTUSDT', 'POWRUSDT', 'ELONUSDT', 'MVLUSDT', 'DEXEUSDT', 'STEEMUSDT', 'PYRUSDT', 'ALPHAUSDT', 'MCUSDT', 'ABBCUSDT', 'EWTUSDT', 'DELUSDT', 'WILDUSDT', 'DESOUSDT', 'RIFUSDT', 'ARDRUSDT', 'BITCOINUSDT', 'ARKMUSDT', 'STRAXUSDT', 'C98USDT', 'HPOUSDT', 'XVGUSDT', 'MAVUSDT', 'CHRUSDT', 'DENTUSDT', 'STTUSDT', 'NKNUSDT']\n"
     ]
    }
   ],
   "source": [
    "# GETTING WEEKLY DATA FOR COINS\n",
    "\n",
    "from binance.client import Client as bnb_client\n",
    "from binance.exceptions import BinanceAPIException\n",
    "from datetime import datetime\n",
    "import pandas as pd\n",
    "\n",
    "# Use bnb_client(tld='US') for users in the United States\n",
    "client = bnb_client(tld='US')\n",
    "\n",
    "def get_binance_px(symbol, freq, start_ts='2020-01-01'):\n",
    "    try:\n",
    "        data = client.get_historical_klines(symbol, '1d', start_ts)\n",
    "        columns = ['open_time', 'open', 'high', 'low', 'close', 'volume', 'close_time', 'quote_volume',\n",
    "                   'num_trades', 'taker_base_volume', 'taker_quote_volume', 'ignore']\n",
    "\n",
    "        data = pd.DataFrame(data, columns=columns)\n",
    "\n",
    "        # Convert from POSIX timestamp (number of milliseconds since Jan 1, 1970)\n",
    "        data['open_time'] = data['open_time'].map(lambda x: datetime.utcfromtimestamp(x / 1000))\n",
    "        data['close_time'] = data['close_time'].map(lambda x: datetime.utcfromtimestamp(x / 1000))\n",
    "        data.set_index('open_time', inplace=True)\n",
    "\n",
    "        # Convert data to numeric\n",
    "        data = data.apply(pd.to_numeric, errors='coerce')\n",
    "\n",
    "        # Resample OHLC data with how='ohlc' to get the open, high, low, close values\n",
    "        ohlc_weekly = data['open'].resample(freq).ohlc()\n",
    "        volume_weekly = data['volume'].resample(freq).sum()\n",
    "\n",
    "        df_weekly = pd.DataFrame(ohlc_weekly)\n",
    "        df_weekly['volume'] = volume_weekly\n",
    "        return df_weekly\n",
    "\n",
    "    except BinanceAPIException as e:\n",
    "        #print(f\"Error for symbol '{symbol}': {e}\")\n",
    "        return None\n",
    "\n",
    "univ = ['BTCUSDT', 'ETHUSDT', 'USDTUSDT', 'XRPUSDT', 'BNBUSDT', 'USDCUSDT', 'DOGEUSDT', 'ADAUSDT', 'SOLUSDT', 'TRXUSDT', 'LTCUSDT', 'MATICUSDT', 'DOTUSDT', 'SHIBUSDT', 'WBTCUSDT', 'BCHUSDT', 'AVAXUSDT', 'DAIUSDT', 'XLMUSDT', 'LINKUSDT', 'TONUSDT', 'BUSDUSDT', 'UNIUSDT', 'LEOUSDT', 'ATOMUSDT', 'TUSDUSDT', 'XMRUSDT', 'ETCUSDT', 'OKBUSDT', 'FILUSDT', 'ICPUSDT', 'HBARUSDT', 'LDOUSDT', 'MNTUSDT', 'APTUSDT', 'CROUSDT', 'ARBUSDT', 'VETUSDT', 'QNTUSDT', 'NEARUSDT', 'MKRUSDT', 'AAVEUSDT', 'OPUSDT', 'GRTUSDT', 'AXSUSDT', 'ALGOUSDT', 'SANDUSDT', 'STXUSDT', 'EGLDUSDT', 'IMXUSDT', 'EOSUSDT', 'THETAUSDT', 'XTZUSDT', 'XDCUSDT', 'SNXUSDT', 'MANAUSDT', 'USDDUSDT', 'APEUSDT', 'FTMUSDT', 'BSVUSDT', 'INJUSDT', 'RNDRUSDT', 'CRVUSDT', 'NEOUSDT', 'FLOWUSDT', 'XECUSDT', 'KAVAUSDT', 'RPLUSDT', 'KCSUSDT', 'COMPUSDT', 'CHZUSDT', 'CFXUSDT', 'USDPUSDT', 'GALAUSDT', 'PEPEUSDT', 'KLAYUSDT', 'GMXUSDT', 'MIOTAUSDT', 'ZECUSDT', 'PAXGUSDT', 'XAUtUSDT', 'FXSUSDT', 'LUNCUSDT', 'BTTUSDT', 'CSPRUSDT', 'HTUSDT', 'MINAUSDT', 'SUIUSDT', 'GTUSDT', 'TWTUSDT', 'DASHUSDT', 'ARUSDT', 'NEXOUSDT', 'GUSDUSDT', 'WOOUSDT', 'BONEUSDT', 'ZILUSDT', '1INCHUSDT', 'DYDXUSDT', 'CAKEUSDT', 'FLRUSDT', 'RUNEUSDT', 'ENJUSDT', 'CVXUSDT', 'GNOUSDT', 'BATUSDT', 'LRCUSDT', 'MASKUSDT', 'ROSEUSDT', 'ENSUSDT', 'TFUELUSDT', 'XEMUSDT', 'QTUMUSDT', 'MXUSDT', 'AGIXUSDT', 'WLDUSDT', 'ANKRUSDT', 'CELOUSDT', 'XCHUSDT', 'BLURUSDT', 'GMTUSDT', 'OSMOUSDT', 'ASTRUSDT', 'RVNUSDT', 'BTGUSDT', 'YFIUSDT', 'BALUSDT', 'HNTUSDT', 'DCRUSDT', 'JSTUSDT', 'HOTUSDT', 'TUSDT', 'ICXUSDT', 'WAVESUSDT', 'OCEANUSDT', 'SFPUSDT', 'FLOKIUSDT', 'GLMUSDT', 'LUNAUSDT', 'SXPUSDT', 'SCUSDT', 'KSMUSDT', 'JASMYUSDT', 'AUDIOUSDT', 'ETHWUSDT', 'SSVUSDT', 'HIVEUSDT', 'ZRXUSDT', 'WAXPUSDT', 'IOTXUSDT', 'ELFUSDT', 'FETUSDT', 'ANTUSDT', 'IOSTUSDT', 'ONTUSDT', 'MAGICUSDT', 'ONEUSDT', 'GLMRUSDT', 'SUSHIUSDT', 'BANDUSDT', 'USTCUSDT', 'BORAUSDT', 'TOMOUSDT', 'ILVUSDT', 'AXLUSDT', 'BRISEUSDT', 'KDAUSDT', 'BICOUSDT', 'DGBUSDT', 'KNCUSDT', 'MOBUSDT', 'UNIBOTUSDT', 'FLUXUSDT', 'SKLUSDT', 'ZENUSDT', 'COREUSDT', 'STGUSDT', 'LPTUSDT', 'UMAUSDT', 'ACHUSDT', 'STORJUSDT', 'DAOUSDT', 'CKBUSDT', 'LSKUSDT', 'EDUUSDT', 'JOEUSDT', 'CTSIUSDT', 'CELRUSDT', 'PUNDIXUSDT', 'RBNUSDT', 'LQTYUSDT', 'PLAUSDT', 'MLKUSDT', 'CFGUSDT', 'RSRUSDT', 'EVERUSDT', 'SNTUSDT', 'AMPUSDT', 'POLYXUSDT', 'GALUSDT', 'stETHUSDT', 'WTRXUSDT', 'WHBARUSDT', 'HEXUSDT', 'BTCBUSDT', 'FRAXUSDT', 'WEOSUSDT', 'KASUSDT', 'WBNBUSDT', 'BGBUSDT', 'TNCUSDT', 'XRDUSDT', 'BTTOLDUSDT', 'FTTUSDT', 'FLEXUSDT', 'WKAVAUSDT', 'USDJUSDT', 'LUSDUSDT', 'RLBUSDT', 'HBTCUSDT', 'AZEROUSDT', 'DFIUSDT', 'BDXUSDT', 'EDGTUSDT', 'TOMIUSDT', 'FNSAUSDT', 'WEMIXUSDT', 'BabyDogeUSDT', 'RONUSDT', 'WBETHUSDT', 'XYMUSDT', 'PENDLEUSDT', 'TRIBEUSDT', 'GNSUSDT', 'EURSUSDT', 'ORDIUSDT', 'CHSBUSDT', 'LYXeUSDT', 'POLYUSDT', 'ASTRAFERUSDT', 'KEEPUSDT', 'USDXUSDT', 'RFRUSDT', 'TRACUSDT', 'RBTCUSDT', 'DKAUSDT', 'TELUSDT', 'VVSUSDT', 'MRSUSDT', 'NFTUSDT', 'XNOUSDT', 'NYMUSDT', 'IQUSDT', 'STPTUSDT', 'MEDUSDT', 'MTLUSDT', 'SUREUSDT', 'SYNUSDT', 'IDUSDT', 'ONGUSDT', 'CVCUSDT', 'WNXMUSDT', 'RDNTUSDT', 'POWRUSDT', 'ORBSUSDT', 'ELONUSDT', 'RLCUSDT', 'MVLUSDT', 'DEXEUSDT', 'STEEMUSDT', 'NMRUSDT', 'OMGUSDT', 'API3USDT', 'SYSUSDT', 'PYRUSDT', 'ALPHAUSDT', 'MCUSDT', 'ABBCUSDT', 'EWTUSDT', 'DELUSDT', 'WILDUSDT', 'RADUSDT', 'DESOUSDT', 'RIFUSDT', 'ARDRUSDT', 'REQUSDT', 'BITCOINUSDT', 'ARKMUSDT', 'STRAXUSDT', 'C98USDT', 'HPOUSDT', 'XVGUSDT', 'MAVUSDT', 'STMXUSDT', 'CHRUSDT', 'PROMUSDT', 'VTHOUSDT', 'DENTUSDT', 'STTUSDT', 'NKNUSDT']\n",
    "freq = 'W'\n",
    "\n",
    "dict_data = {}\n",
    "symbols_with_errors = []\n",
    "for symbol in univ:\n",
    "    data = get_binance_px(symbol, freq)\n",
    "    if data is not None:\n",
    "        dict_data[symbol] = data\n",
    "    else:\n",
    "        symbols_with_errors.append(symbol)\n",
    "\n",
    "ohlcv_data = pd.concat(dict_data, axis=1)\n",
    "print(ohlcv_data)\n",
    "print(\"Symbols with errors:\", symbols_with_errors)\n"
   ]
  },
  {
   "cell_type": "code",
   "execution_count": 3,
   "id": "8c46c067",
   "metadata": {},
   "outputs": [
    {
     "name": "stdout",
     "output_type": "stream",
     "text": [
      "\n",
      "High Momentum:\n",
      "              BTCUSDT   ETHUSDT   XRPUSDT   BNBUSDT  USDCUSDT  DOGEUSDT  \\\n",
      "open_time                                                                 \n",
      "2020-01-05        NaN       NaN       NaN       NaN       NaN       NaN   \n",
      "2020-01-12        NaN       NaN       NaN       NaN       NaN       NaN   \n",
      "2020-01-19        NaN       NaN       NaN       NaN       NaN       NaN   \n",
      "2020-01-26  -9.161855 -5.244644  1.308675 -2.944128       NaN  5.875237   \n",
      "2020-02-02  -9.042427 -5.084844  1.509747 -2.844449       NaN  6.061145   \n",
      "...               ...       ...       ...       ...       ...       ...   \n",
      "2023-07-16 -10.356120 -7.566743       NaN -5.475770 -0.001997  2.725400   \n",
      "2023-07-23 -10.372687 -7.636229       NaN -5.578246 -0.002197  2.595563   \n",
      "2023-07-30 -10.371405 -7.595448       NaN -5.522137 -0.006921  2.635994   \n",
      "2023-08-06 -10.365817 -7.625926  0.073408 -5.532517 -0.003232  2.446898   \n",
      "2023-08-13 -10.303494 -7.551419  0.204241 -5.520062 -0.008754  2.506942   \n",
      "\n",
      "             ADAUSDT   SOLUSDT  TRXUSDT   LTCUSDT  ...   RLCUSDT   NMRUSDT  \\\n",
      "open_time                                          ...                       \n",
      "2020-01-05       NaN       NaN      NaN       NaN  ...       NaN       NaN   \n",
      "2020-01-12       NaN       NaN      NaN       NaN  ...       NaN       NaN   \n",
      "2020-01-19       NaN       NaN      NaN       NaN  ...       NaN       NaN   \n",
      "2020-01-26  3.031681       NaN      NaN -4.219614  ...       NaN       NaN   \n",
      "2020-02-02  3.140627       NaN      NaN -3.972365  ...       NaN       NaN   \n",
      "...              ...       ...      ...       ...  ...       ...       ...   \n",
      "2023-07-16  1.155694 -3.080992      NaN -4.762646  ... -0.349661 -2.632341   \n",
      "2023-07-23  0.989161 -3.425506      NaN -4.763356  ... -0.340423 -2.677973   \n",
      "2023-07-30  1.050075 -3.280643      NaN -4.707220  ... -0.320834 -2.632701   \n",
      "2023-08-06  0.975729 -3.419511      NaN -4.752684  ... -0.277299 -2.703903   \n",
      "2023-08-13  1.138793 -3.227020      NaN -4.547763  ... -0.166362 -2.666785   \n",
      "\n",
      "             OMGUSDT  API3USDT   SYSUSDT   RADUSDT   REQUSDT  STMXUSDT  \\\n",
      "open_time                                                                \n",
      "2020-01-05       NaN       NaN       NaN       NaN       NaN       NaN   \n",
      "2020-01-12       NaN       NaN       NaN       NaN       NaN       NaN   \n",
      "2020-01-19       NaN       NaN       NaN       NaN       NaN       NaN   \n",
      "2020-01-26       NaN       NaN       NaN       NaN       NaN       NaN   \n",
      "2020-02-02       NaN       NaN       NaN       NaN       NaN       NaN   \n",
      "...              ...       ...       ...       ...       ...       ...   \n",
      "2023-07-16  0.168772 -0.011929  2.033788 -0.505022  2.400568  5.409892   \n",
      "2023-07-23  0.356925 -0.178023  1.934461 -0.648047  2.341048  5.493359   \n",
      "2023-07-30  0.319945 -0.199837  2.040412 -0.495161  2.399405  4.609121   \n",
      "2023-08-06  0.345021 -0.244247  2.057689 -0.572261  2.446671  4.521356   \n",
      "2023-08-13  0.453251 -0.111609  2.206181 -0.424614  2.539823  4.709661   \n",
      "\n",
      "            PROMUSDT  VTHOUSDT  \n",
      "open_time                       \n",
      "2020-01-05       NaN       NaN  \n",
      "2020-01-12       NaN       NaN  \n",
      "2020-01-19       NaN       NaN  \n",
      "2020-01-26       NaN       NaN  \n",
      "2020-02-02       NaN       NaN  \n",
      "...              ...       ...  \n",
      "2023-07-16 -1.503840  6.621983  \n",
      "2023-07-23 -1.347305  6.567545  \n",
      "2023-07-30 -1.358409  6.623814  \n",
      "2023-08-06 -1.454414  6.612617  \n",
      "2023-08-13 -1.426842  6.756823  \n",
      "\n",
      "[189 rows x 128 columns]\n"
     ]
    }
   ],
   "source": [
    "# GENERATING PREDICTOR FOR 4 WEEKS\n",
    "\n",
    "import numpy as np\n",
    "\n",
    "log_returns = ohlcv_data.xs('close', axis=1, level=1).apply(lambda x: pd.Series(np.log(x / x.shift(1))))\n",
    "\n",
    "h = 4\n",
    "high_prices = ohlcv_data.xs('high', axis=1, level=1)\n",
    "high_momentum = log_returns.sub(high_prices.rolling(h).max().apply(np.log))\n",
    "\n",
    "print(\"\\nHigh Momentum:\")\n",
    "print(high_momentum)"
   ]
  },
  {
   "cell_type": "code",
   "execution_count": 4,
   "id": "3e44ef32",
   "metadata": {},
   "outputs": [
    {
     "name": "stdout",
     "output_type": "stream",
     "text": [
      "            BTCUSDT  ETHUSDT  XRPUSDT  BNBUSDT  USDCUSDT  DOGEUSDT  ADAUSDT  \\\n",
      "open_time                                                                     \n",
      "2020-01-05      NaN      NaN      NaN      NaN       NaN       NaN      NaN   \n",
      "2020-01-12      NaN      NaN      NaN      NaN       NaN       NaN      NaN   \n",
      "2020-01-19      NaN      NaN      NaN      NaN       NaN       NaN      NaN   \n",
      "2020-01-26      1.0      1.0      4.0      2.0       NaN       5.0      5.0   \n",
      "2020-02-02      1.0      1.0      4.0      2.0       NaN       5.0      5.0   \n",
      "...             ...      ...      ...      ...       ...       ...      ...   \n",
      "2023-07-16      1.0      1.0      NaN      1.0       3.0       5.0      4.0   \n",
      "2023-07-23      1.0      1.0      NaN      1.0       3.0       5.0      4.0   \n",
      "2023-07-30      1.0      1.0      NaN      1.0       3.0       5.0      4.0   \n",
      "2023-08-06      1.0      1.0      3.0      1.0       3.0       5.0      4.0   \n",
      "2023-08-13      1.0      1.0      3.0      1.0       3.0       5.0      4.0   \n",
      "\n",
      "            SOLUSDT  TRXUSDT  LTCUSDT  ...  RLCUSDT  NMRUSDT  OMGUSDT  \\\n",
      "open_time                              ...                              \n",
      "2020-01-05      NaN      NaN      NaN  ...      NaN      NaN      NaN   \n",
      "2020-01-12      NaN      NaN      NaN  ...      NaN      NaN      NaN   \n",
      "2020-01-19      NaN      NaN      NaN  ...      NaN      NaN      NaN   \n",
      "2020-01-26      NaN      NaN      1.0  ...      NaN      NaN      NaN   \n",
      "2020-02-02      NaN      NaN      1.0  ...      NaN      NaN      NaN   \n",
      "...             ...      ...      ...  ...      ...      ...      ...   \n",
      "2023-07-16      1.0      NaN      1.0  ...      2.0      1.0      3.0   \n",
      "2023-07-23      1.0      NaN      1.0  ...      2.0      1.0      3.0   \n",
      "2023-07-30      1.0      NaN      1.0  ...      2.0      1.0      3.0   \n",
      "2023-08-06      1.0      NaN      1.0  ...      2.0      1.0      3.0   \n",
      "2023-08-13      1.0      NaN      1.0  ...      2.0      1.0      3.0   \n",
      "\n",
      "            API3USDT  SYSUSDT  RADUSDT  REQUSDT  STMXUSDT  PROMUSDT  VTHOUSDT  \n",
      "open_time                                                                      \n",
      "2020-01-05       NaN      NaN      NaN      NaN       NaN       NaN       NaN  \n",
      "2020-01-12       NaN      NaN      NaN      NaN       NaN       NaN       NaN  \n",
      "2020-01-19       NaN      NaN      NaN      NaN       NaN       NaN       NaN  \n",
      "2020-01-26       NaN      NaN      NaN      NaN       NaN       NaN       NaN  \n",
      "2020-02-02       NaN      NaN      NaN      NaN       NaN       NaN       NaN  \n",
      "...              ...      ...      ...      ...       ...       ...       ...  \n",
      "2023-07-16       3.0      4.0      2.0      5.0       5.0       2.0       5.0  \n",
      "2023-07-23       3.0      4.0      2.0      4.0       5.0       2.0       5.0  \n",
      "2023-07-30       3.0      4.0      2.0      4.0       5.0       2.0       5.0  \n",
      "2023-08-06       3.0      4.0      2.0      5.0       5.0       2.0       5.0  \n",
      "2023-08-13       3.0      4.0      2.0      5.0       5.0       2.0       5.0  \n",
      "\n",
      "[189 rows x 128 columns]\n"
     ]
    }
   ],
   "source": [
    "# DIVIDING THE PREDICTOR INTO 5 EQUAL QUINTILES\n",
    "\n",
    "def calculate_quintiles(row):\n",
    "    non_nan_values = row.dropna()\n",
    "    if len(non_nan_values) == 0:\n",
    "        return pd.Series(np.nan, index=row.index)\n",
    "    sorted_values = non_nan_values.sort_values()\n",
    "    num_elements = len(sorted_values)\n",
    "    quantiles = pd.qcut(sorted_values, q=5, labels=False, duplicates='drop') + 1\n",
    "    return pd.Series(quantiles.reindex(row.index, fill_value=np.nan))\n",
    "\n",
    "quintile_data = high_momentum.apply(calculate_quintiles, axis=1)\n",
    "print(quintile_data)"
   ]
  },
  {
   "cell_type": "code",
   "execution_count": 5,
   "id": "613cfa2b",
   "metadata": {},
   "outputs": [
    {
     "name": "stdout",
     "output_type": "stream",
     "text": [
      "             BTCUSDT   ETHUSDT   XRPUSDT   BNBUSDT  USDCUSDT  DOGEUSDT  \\\n",
      "open_time                                                                \n",
      "2020-01-05       NaN       NaN       NaN       NaN       NaN       NaN   \n",
      "2020-01-12       NaN       NaN       NaN       NaN       NaN       NaN   \n",
      "2020-01-19       NaN       NaN       NaN       NaN       NaN       NaN   \n",
      "2020-01-26  0.250000  0.250000  0.333333  0.333333       NaN  0.333333   \n",
      "2020-02-02  0.250000  0.250000  0.333333  0.333333       NaN  0.333333   \n",
      "...              ...       ...       ...       ...       ...       ...   \n",
      "2023-07-16  0.043478  0.043478       NaN  0.043478  0.045455  0.045455   \n",
      "2023-07-23  0.040000  0.040000       NaN  0.040000  0.041667  0.041667   \n",
      "2023-07-30  0.040000  0.040000       NaN  0.040000  0.041667  0.041667   \n",
      "2023-08-06  0.040000  0.040000  0.041667  0.040000  0.041667  0.040000   \n",
      "2023-08-13  0.040000  0.040000  0.041667  0.040000  0.041667  0.040000   \n",
      "\n",
      "             ADAUSDT   SOLUSDT  TRXUSDT   LTCUSDT  ...   RLCUSDT   NMRUSDT  \\\n",
      "open_time                                          ...                       \n",
      "2020-01-05       NaN       NaN      NaN       NaN  ...       NaN       NaN   \n",
      "2020-01-12       NaN       NaN      NaN       NaN  ...       NaN       NaN   \n",
      "2020-01-19       NaN       NaN      NaN       NaN  ...       NaN       NaN   \n",
      "2020-01-26  0.333333       NaN      NaN  0.250000  ...       NaN       NaN   \n",
      "2020-02-02  0.333333       NaN      NaN  0.250000  ...       NaN       NaN   \n",
      "...              ...       ...      ...       ...  ...       ...       ...   \n",
      "2023-07-16  0.045455  0.043478      NaN  0.043478  ...  0.045455  0.043478   \n",
      "2023-07-23  0.041667  0.040000      NaN  0.040000  ...  0.041667  0.040000   \n",
      "2023-07-30  0.041667  0.040000      NaN  0.040000  ...  0.041667  0.040000   \n",
      "2023-08-06  0.041667  0.040000      NaN  0.040000  ...  0.041667  0.040000   \n",
      "2023-08-13  0.041667  0.040000      NaN  0.040000  ...  0.041667  0.040000   \n",
      "\n",
      "             OMGUSDT  API3USDT   SYSUSDT   RADUSDT   REQUSDT  STMXUSDT  \\\n",
      "open_time                                                                \n",
      "2020-01-05       NaN       NaN       NaN       NaN       NaN       NaN   \n",
      "2020-01-12       NaN       NaN       NaN       NaN       NaN       NaN   \n",
      "2020-01-19       NaN       NaN       NaN       NaN       NaN       NaN   \n",
      "2020-01-26       NaN       NaN       NaN       NaN       NaN       NaN   \n",
      "2020-02-02       NaN       NaN       NaN       NaN       NaN       NaN   \n",
      "...              ...       ...       ...       ...       ...       ...   \n",
      "2023-07-16  0.045455  0.045455  0.045455  0.045455  0.045455  0.045455   \n",
      "2023-07-23  0.041667  0.041667  0.041667  0.041667  0.041667  0.041667   \n",
      "2023-07-30  0.041667  0.041667  0.041667  0.041667  0.041667  0.041667   \n",
      "2023-08-06  0.041667  0.041667  0.041667  0.041667  0.040000  0.040000   \n",
      "2023-08-13  0.041667  0.041667  0.041667  0.041667  0.040000  0.040000   \n",
      "\n",
      "            PROMUSDT  VTHOUSDT  \n",
      "open_time                       \n",
      "2020-01-05       NaN       NaN  \n",
      "2020-01-12       NaN       NaN  \n",
      "2020-01-19       NaN       NaN  \n",
      "2020-01-26       NaN       NaN  \n",
      "2020-02-02       NaN       NaN  \n",
      "...              ...       ...  \n",
      "2023-07-16  0.045455  0.045455  \n",
      "2023-07-23  0.041667  0.041667  \n",
      "2023-07-30  0.041667  0.041667  \n",
      "2023-08-06  0.041667  0.040000  \n",
      "2023-08-13  0.041667  0.040000  \n",
      "\n",
      "[189 rows x 128 columns]\n"
     ]
    }
   ],
   "source": [
    "# ASSIGNING WEIGHTS TO QUINTILES\n",
    "\n",
    "quintile_weights = quintile_data.copy()\n",
    "\n",
    "for row in quintile_weights.index:\n",
    "    row_values = quintile_weights.loc[row]\n",
    "    reciprocal_counts = 1 / row_values.value_counts()\n",
    "    quintile_weights.loc[row] = row_values.map(reciprocal_counts)\n",
    "\n",
    "print(quintile_weights)"
   ]
  },
  {
   "cell_type": "code",
   "execution_count": 12,
   "id": "815500f2",
   "metadata": {},
   "outputs": [
    {
     "name": "stdout",
     "output_type": "stream",
     "text": [
      "            BTCUSDT  ETHUSDT  XRPUSDT  BNBUSDT  USDCUSDT  DOGEUSDT   ADAUSDT  \\\n",
      "open_time                                                                      \n",
      "2020-01-05        0        0        0        0       0.0  0.000000  0.000000   \n",
      "2020-01-12        0        0        0        0       0.0  0.000000  0.000000   \n",
      "2020-01-19        0        0        0        0       0.0  0.000000  0.000000   \n",
      "2020-01-26        0        0        0        0       0.0  0.333333  0.333333   \n",
      "2020-02-02        0        0        0        0       0.0  0.333333  0.333333   \n",
      "...             ...      ...      ...      ...       ...       ...       ...   \n",
      "2023-07-16        0        0        0        0       0.0  0.045455  0.000000   \n",
      "2023-07-23        0        0        0        0       0.0  0.041667  0.000000   \n",
      "2023-07-30        0        0        0        0       0.0  0.041667  0.000000   \n",
      "2023-08-06        0        0        0        0       0.0  0.040000  0.000000   \n",
      "2023-08-13        0        0        0        0       0.0  0.040000  0.000000   \n",
      "\n",
      "            SOLUSDT  TRXUSDT  LTCUSDT  ...  RLCUSDT  NMRUSDT  OMGUSDT  \\\n",
      "open_time                              ...                              \n",
      "2020-01-05        0      0.0        0  ...        0        0        0   \n",
      "2020-01-12        0      0.0        0  ...        0        0        0   \n",
      "2020-01-19        0      0.0        0  ...        0        0        0   \n",
      "2020-01-26        0      0.0        0  ...        0        0        0   \n",
      "2020-02-02        0      0.0        0  ...        0        0        0   \n",
      "...             ...      ...      ...  ...      ...      ...      ...   \n",
      "2023-07-16        0      0.0        0  ...        0        0        0   \n",
      "2023-07-23        0      0.0        0  ...        0        0        0   \n",
      "2023-07-30        0      0.0        0  ...        0        0        0   \n",
      "2023-08-06        0      0.0        0  ...        0        0        0   \n",
      "2023-08-13        0      0.0        0  ...        0        0        0   \n",
      "\n",
      "            API3USDT  SYSUSDT  RADUSDT   REQUSDT  STMXUSDT  PROMUSDT  VTHOUSDT  \n",
      "open_time                                                                       \n",
      "2020-01-05         0      0.0        0  0.000000  0.000000         0  0.000000  \n",
      "2020-01-12         0      0.0        0  0.000000  0.000000         0  0.000000  \n",
      "2020-01-19         0      0.0        0  0.000000  0.000000         0  0.000000  \n",
      "2020-01-26         0      0.0        0  0.000000  0.000000         0  0.000000  \n",
      "2020-02-02         0      0.0        0  0.000000  0.000000         0  0.000000  \n",
      "...              ...      ...      ...       ...       ...       ...       ...  \n",
      "2023-07-16         0      0.0        0  0.045455  0.045455         0  0.045455  \n",
      "2023-07-23         0      0.0        0  0.000000  0.041667         0  0.041667  \n",
      "2023-07-30         0      0.0        0  0.000000  0.041667         0  0.041667  \n",
      "2023-08-06         0      0.0        0  0.040000  0.040000         0  0.040000  \n",
      "2023-08-13         0      0.0        0  0.040000  0.040000         0  0.040000  \n",
      "\n",
      "[189 rows x 128 columns]\n"
     ]
    }
   ],
   "source": [
    "\n",
    "\n",
    "# Assuming you have the 'quintile_data' and 'quintile_weights' DataFrames\n",
    "# Create a new DataFrame with the same index and columns as 'quintile_weights', filled with zeros\n",
    "new_dataframe = pd.DataFrame(0, index=quintile_weights.index, columns=quintile_weights.columns)\n",
    "\n",
    "# Set values from 'quintile_weights' where 'quintile_data' is 5\n",
    "new_dataframe[quintile_data == 5] = quintile_weights[quintile_data == 5]\n",
    "\n",
    "print(new_dataframe)\n"
   ]
  },
  {
   "cell_type": "code",
   "execution_count": 13,
   "id": "44842044",
   "metadata": {},
   "outputs": [
    {
     "data": {
      "text/plain": [
       "open_time\n",
       "2020-01-05    0.000000\n",
       "2020-01-12    0.000000\n",
       "2020-01-19    0.000000\n",
       "2020-01-26    1.000000\n",
       "2020-02-02    0.000000\n",
       "                ...   \n",
       "2023-07-16    0.000000\n",
       "2023-07-23    0.333333\n",
       "2023-07-30    0.000000\n",
       "2023-08-06    0.080000\n",
       "2023-08-13    0.000000\n",
       "Freq: W-SUN, Length: 189, dtype: float64"
      ]
     },
     "execution_count": 13,
     "metadata": {},
     "output_type": "execute_result"
    }
   ],
   "source": [
    "to = (new_dataframe - new_dataframe.shift()).abs().sum(1)\n",
    "to"
   ]
  },
  {
   "cell_type": "code",
   "execution_count": 6,
   "id": "a06e89a6",
   "metadata": {},
   "outputs": [
    {
     "name": "stdout",
     "output_type": "stream",
     "text": [
      "             BTCUSDT   ETHUSDT   XRPUSDT   BNBUSDT  USDCUSDT  DOGEUSDT  \\\n",
      "open_time                                                                \n",
      "2020-01-05       NaN       NaN       NaN       NaN       NaN       NaN   \n",
      "2020-01-12  0.087743  0.053174  0.090163  0.076875       NaN  0.055601   \n",
      "2020-01-19  0.112819  0.227308  0.151730  0.193768       NaN  0.155072   \n",
      "2020-01-26 -0.064348 -0.080498 -0.099556 -0.047199       NaN -0.106629   \n",
      "2020-02-02  0.125253  0.143080  0.101890  0.079491       NaN  0.075897   \n",
      "...              ...       ...       ...       ...       ...       ...   \n",
      "2023-07-16  0.000034  0.036281  1.466669  0.060568  0.000300  0.095849   \n",
      "2023-07-23 -0.016397 -0.033282  0.019869 -0.042732  0.000100 -0.019220   \n",
      "2023-07-30 -0.015136  0.006957 -0.030518  0.012516 -0.006401  0.140301   \n",
      "2023-08-06 -0.009616 -0.023270 -0.116358  0.002060  0.006442 -0.056164   \n",
      "2023-08-13  0.013389  0.009208  0.007156 -0.007812  0.000900  0.002243   \n",
      "\n",
      "             ADAUSDT   SOLUSDT  TRXUSDT   LTCUSDT  ...   RLCUSDT   NMRUSDT  \\\n",
      "open_time                                          ...                       \n",
      "2020-01-05       NaN       NaN      NaN       NaN  ...       NaN       NaN   \n",
      "2020-01-12  0.067811       NaN      NaN  0.143920  ...       NaN       NaN   \n",
      "2020-01-19  0.227310       NaN      NaN  0.204065  ...       NaN       NaN   \n",
      "2020-01-26 -0.041972       NaN      NaN -0.103477  ...       NaN       NaN   \n",
      "2020-02-02  0.296708       NaN      NaN  0.330823  ...       NaN       NaN   \n",
      "...              ...       ...      ...       ...  ...       ...       ...   \n",
      "2023-07-16  0.122161  0.258494      0.0 -0.027809  ...  0.012275  0.016807   \n",
      "2023-07-23 -0.049985 -0.107625      0.0 -0.028499  ... -0.021019 -0.028550   \n",
      "2023-07-30  0.009684  0.031480      0.0  0.027597  ... -0.001652  0.039443   \n",
      "2023-08-06 -0.062660 -0.102259      0.0 -0.121273  ... -0.023160 -0.031994   \n",
      "2023-08-13  0.010914  0.088300      0.0  0.001685  ...  0.088061  0.004612   \n",
      "\n",
      "             OMGUSDT  API3USDT   SYSUSDT   RADUSDT   REQUSDT  STMXUSDT  \\\n",
      "open_time                                                                \n",
      "2020-01-05       NaN       NaN       NaN       NaN       NaN       NaN   \n",
      "2020-01-12       NaN       NaN       NaN       NaN       NaN       NaN   \n",
      "2020-01-19       NaN       NaN       NaN       NaN       NaN       NaN   \n",
      "2020-01-26       NaN       NaN       NaN       NaN       NaN       NaN   \n",
      "2020-02-02       NaN       NaN       NaN       NaN       NaN       NaN   \n",
      "...              ...       ...       ...       ...       ...       ...   \n",
      "2023-07-16  0.029950  0.113636  0.041739  0.076631 -0.012865  0.251978   \n",
      "2023-07-23  0.014540 -0.056788 -0.056761 -0.102941 -0.069905  1.162615   \n",
      "2023-07-30 -0.022293 -0.077140 -0.004425  0.045246 -0.014013 -0.106778   \n",
      "2023-08-06 -0.097720 -0.117227 -0.062222 -0.040778  0.012920 -0.181830   \n",
      "2023-08-13  0.005415  0.229792  0.038863  0.077175  0.040816 -0.012304   \n",
      "\n",
      "            PROMUSDT  VTHOUSDT  \n",
      "open_time                       \n",
      "2020-01-05       NaN       NaN  \n",
      "2020-01-12       NaN       NaN  \n",
      "2020-01-19       NaN       NaN  \n",
      "2020-01-26       NaN       NaN  \n",
      "2020-02-02       NaN       NaN  \n",
      "...              ...       ...  \n",
      "2023-07-16 -0.041995  0.001661  \n",
      "2023-07-23  0.065753 -0.051410  \n",
      "2023-07-30  0.077121  0.003497  \n",
      "2023-08-06 -0.021480 -0.078397  \n",
      "2023-08-13  0.068293  0.019849  \n",
      "\n",
      "[189 rows x 128 columns]\n"
     ]
    }
   ],
   "source": [
    "# WEEKLY CLOSE PRICE RETURNS OF COINS\n",
    "\n",
    "close_price_pct_change = ohlcv_data.xs('close', level=1, axis=1).pct_change()\n",
    "print(close_price_pct_change)"
   ]
  },
  {
   "cell_type": "code",
   "execution_count": 14,
   "id": "3bbafeab",
   "metadata": {},
   "outputs": [
    {
     "data": {
      "text/plain": [
       "<Axes: xlabel='open_time'>"
      ]
     },
     "execution_count": 14,
     "metadata": {},
     "output_type": "execute_result"
    },
    {
     "data": {
      "image/png": "[encoded data removed]",
      "text/plain": [
       "<Figure size 640x480 with 1 Axes>"
      ]
     },
     "metadata": {},
     "output_type": "display_data"
    }
   ],
   "source": [
    "to.plot()"
   ]
  },
  {
   "cell_type": "code",
   "execution_count": 15,
   "id": "fb6b66b1",
   "metadata": {},
   "outputs": [
    {
     "data": {
      "text/plain": [
       "0.0799888549775522"
      ]
     },
     "execution_count": 15,
     "metadata": {},
     "output_type": "execute_result"
    }
   ],
   "source": [
    "to.mean()"
   ]
  },
  {
   "cell_type": "code",
   "execution_count": 7,
   "id": "b0f99876",
   "metadata": {},
   "outputs": [
    {
     "name": "stdout",
     "output_type": "stream",
     "text": [
      "                   1         2         3         4         5\n",
      "open_time                                                   \n",
      "2020-01-05  0.000000  0.000000  0.000000  0.000000  0.000000\n",
      "2020-01-12  0.000000  0.000000  0.000000  0.000000  0.000000\n",
      "2020-01-19  0.000000  0.000000  0.000000  0.000000  0.000000\n",
      "2020-01-26  0.210495  0.308027  0.142804  0.204133  0.171538\n",
      "2020-02-02 -0.083473 -0.059457 -0.070982 -0.094233 -0.083230\n",
      "...              ...       ...       ...       ...       ...\n",
      "2023-07-16 -0.021202 -0.056083 -0.039870 -0.055398 -0.024890\n",
      "2023-07-23  0.059679  0.069853  0.074726  0.097384  0.066275\n",
      "2023-07-30 -0.021901 -0.005043 -0.022534 -0.041934  0.022677\n",
      "2023-08-06  0.017686 -0.010451 -0.000625 -0.009498  0.012880\n",
      "2023-08-13 -0.051160 -0.041261 -0.052548 -0.044285 -0.044196\n",
      "\n",
      "[189 rows x 5 columns]\n"
     ]
    }
   ],
   "source": [
    "# CALCULATE QUINTILE RETURNS\n",
    "\n",
    "import pandas as pd\n",
    "\n",
    "quintile_returns = {}\n",
    "\n",
    "for quintile in range(1, 6):\n",
    "    quintile_weights_q = quintile_weights[quintile_data == quintile]\n",
    "    quintile_returns[quintile] = (quintile_weights_q * close_price_pct_change.shift(1)).sum(axis=1)\n",
    "\n",
    "quintile_returns_df = pd.DataFrame(quintile_returns)\n",
    "print(quintile_returns_df)"
   ]
  },
  {
   "cell_type": "code",
   "execution_count": 8,
   "id": "c54ddb7e",
   "metadata": {},
   "outputs": [
    {
     "name": "stdout",
     "output_type": "stream",
     "text": [
      "Axes(0.125,0.11;0.775x0.77)\n"
     ]
    },
    {
     "data": {
      "image/png": "[encoded data removed]",
      "text/plain": [
       "<Figure size 640x480 with 1 Axes>"
      ]
     },
     "metadata": {},
     "output_type": "display_data"
    }
   ],
   "source": [
    "sum_of_columns = quintile_returns_df.cumsum().plot()\n",
    "print(sum_of_columns)"
   ]
  },
  {
   "cell_type": "code",
   "execution_count": 9,
   "id": "ad6e5137",
   "metadata": {},
   "outputs": [
    {
     "name": "stdout",
     "output_type": "stream",
     "text": [
      "            1         2         3         4         5\n",
      "SR   1.555097  2.158741  1.614615  1.674715  2.632260\n",
      "ret  2.788966  4.944312  3.545087  3.719108  7.355663\n",
      "vol  1.793435  2.290368  2.195623  2.220741  2.794429\n"
     ]
    }
   ],
   "source": [
    "def get_stats_for_all_quintiles(quintile_returns_df):\n",
    "    stats_dict = {}\n",
    "    \n",
    "    for column in quintile_returns_df.columns:\n",
    "        strat_ret = quintile_returns_df[column]\n",
    "        stats = {}\n",
    "        stats['SR'] = strat_ret.mean() / strat_ret.std() * np.sqrt(252)\n",
    "        stats['ret'] = strat_ret.mean() * 252\n",
    "        stats['vol'] = strat_ret.std() * np.sqrt(252)\n",
    "        stats_dict[column] = stats\n",
    "    \n",
    "    return pd.DataFrame(stats_dict)\n",
    "\n",
    "quintile_stats_df = get_stats_for_all_quintiles(quintile_returns_df[5]-quintile_returns_df[1])\n",
    "print(quintile_stats_df)"
   ]
  },
  {
   "cell_type": "code",
   "execution_count": 16,
   "id": "70362015",
   "metadata": {},
   "outputs": [
    {
     "ename": "NameError",
     "evalue": "name 'getcwd' is not defined",
     "output_type": "error",
     "traceback": [
      "\u001b[0;31m---------------------------------------------------------------------------\u001b[0m",
      "\u001b[0;31mNameError\u001b[0m                                 Traceback (most recent call last)",
      "Cell \u001b[0;32mIn[16], line 1\u001b[0m\n\u001b[0;32m----> 1\u001b[0m \u001b[43mgetcwd\u001b[49m()\n",
      "\u001b[0;31mNameError\u001b[0m: name 'getcwd' is not defined"
     ]
    }
   ],
   "source": [
    "getcwd()"
   ]
  },
  {
   "cell_type": "code",
   "execution_count": null,
   "id": "f092e6fe",
   "metadata": {},
   "outputs": [],
   "source": []
  },
  {
   "cell_type": "code",
   "execution_count": null,
   "id": "b05b696b",
   "metadata": {},
   "outputs": [],
   "source": []
  },
  {
   "cell_type": "code",
   "execution_count": null,
   "id": "107f4590",
   "metadata": {},
   "outputs": [],
   "source": []
  },
  {
   "cell_type": "code",
   "execution_count": null,
   "id": "0801dece",
   "metadata": {},
   "outputs": [],
   "source": []
  },
  {
   "cell_type": "code",
   "execution_count": null,
   "id": "d5d0481a",
   "metadata": {},
   "outputs": [],
   "source": []
  },
  {
   "cell_type": "code",
   "execution_count": null,
   "id": "74e70987",
   "metadata": {},
   "outputs": [],
   "source": []
  },
  {
   "cell_type": "code",
   "execution_count": null,
   "id": "62880c6e",
   "metadata": {},
   "outputs": [],
   "source": []
  },
  {
   "cell_type": "code",
   "execution_count": null,
   "id": "84849712",
   "metadata": {},
   "outputs": [],
   "source": []
  },
  {
   "cell_type": "code",
   "execution_count": null,
   "id": "1fe54b21",
   "metadata": {},
   "outputs": [],
   "source": []
  },
  {
   "cell_type": "code",
   "execution_count": null,
   "id": "7b1eacb0",
   "metadata": {},
   "outputs": [],
   "source": []
  },
  {
   "cell_type": "code",
   "execution_count": null,
   "id": "06f8ace7",
   "metadata": {},
   "outputs": [],
   "source": []
  },
  {
   "cell_type": "code",
   "execution_count": null,
   "id": "2d82bcc7",
   "metadata": {},
   "outputs": [],
   "source": []
  },
  {
   "cell_type": "code",
   "execution_count": null,
   "id": "57c2829e",
   "metadata": {},
   "outputs": [],
   "source": []
  },
  {
   "cell_type": "code",
   "execution_count": null,
   "id": "94337fc0",
   "metadata": {},
   "outputs": [],
   "source": []
  },
  {
   "cell_type": "code",
   "execution_count": null,
   "id": "03271d9c",
   "metadata": {},
   "outputs": [],
   "source": []
  },
  {
   "cell_type": "code",
   "execution_count": null,
   "id": "cc2f3453",
   "metadata": {},
   "outputs": [],
   "source": []
  },
  {
   "cell_type": "code",
   "execution_count": null,
   "id": "2386bbbc",
   "metadata": {},
   "outputs": [],
   "source": []
  }
 ],
 "metadata": {
  "kernelspec": {
   "display_name": "Python 3 (ipykernel)",
   "language": "python",
   "name": "python3"
  },
  "language_info": {
   "codemirror_mode": {
    "name": "ipython",
    "version": 3
   },
   "file_extension": ".py",
   "mimetype": "text/x-python",
   "name": "python",
   "nbconvert_exporter": "python",
   "pygments_lexer": "ipython3",
   "version": "3.10.9"
  }
 },
 "nbformat": 4,
 "nbformat_minor": 5
}
